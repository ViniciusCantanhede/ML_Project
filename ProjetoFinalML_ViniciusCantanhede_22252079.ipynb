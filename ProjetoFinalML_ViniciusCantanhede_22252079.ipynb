{
  "cells": [
    {
      "cell_type": "code",
      "execution_count": 1,
      "id": "2b0ce381",
      "metadata": {
        "id": "2b0ce381"
      },
      "outputs": [],
      "source": [
        "import pandas as pd\n",
        "import numpy as np\n",
        "import matplotlib.pyplot as plt"
      ]
    },
    {
      "cell_type": "code",
      "execution_count": 2,
      "id": "f1661607",
      "metadata": {
        "id": "f1661607",
        "outputId": "43b42f0e-8992-4782-c76f-136b26b849cf"
      },
      "outputs": [
        {
          "data": {
            "text/html": [
              "<div>\n",
              "<style scoped>\n",
              "    .dataframe tbody tr th:only-of-type {\n",
              "        vertical-align: middle;\n",
              "    }\n",
              "\n",
              "    .dataframe tbody tr th {\n",
              "        vertical-align: top;\n",
              "    }\n",
              "\n",
              "    .dataframe thead th {\n",
              "        text-align: right;\n",
              "    }\n",
              "</style>\n",
              "<table border=\"1\" class=\"dataframe\">\n",
              "  <thead>\n",
              "    <tr style=\"text-align: right;\">\n",
              "      <th></th>\n",
              "      <th>ID</th>\n",
              "      <th>Genero</th>\n",
              "      <th>Idoso</th>\n",
              "      <th>Parceiro</th>\n",
              "      <th>Dependentes</th>\n",
              "      <th>TempoDeServico</th>\n",
              "      <th>ServicoTelefone</th>\n",
              "      <th>MultiLinhas</th>\n",
              "      <th>ServicoInternet</th>\n",
              "      <th>ServicoSegurancaCyber</th>\n",
              "      <th>...</th>\n",
              "      <th>StreamingTV</th>\n",
              "      <th>StreamingFilmes</th>\n",
              "      <th>Contrato</th>\n",
              "      <th>BillingDigital</th>\n",
              "      <th>MetodoPagamento</th>\n",
              "      <th>FaturaMensal</th>\n",
              "      <th>FaturaTotal</th>\n",
              "      <th>NumTickets</th>\n",
              "      <th>NumTicketsTecnico</th>\n",
              "      <th>Churn</th>\n",
              "    </tr>\n",
              "  </thead>\n",
              "  <tbody>\n",
              "    <tr>\n",
              "      <th>0</th>\n",
              "      <td>6027</td>\n",
              "      <td>Masculino</td>\n",
              "      <td>0.0</td>\n",
              "      <td>Sim</td>\n",
              "      <td>Sim</td>\n",
              "      <td>35.0</td>\n",
              "      <td>Sim</td>\n",
              "      <td>Sim</td>\n",
              "      <td>Não</td>\n",
              "      <td>Sem serviço de internet</td>\n",
              "      <td>...</td>\n",
              "      <td>Sem serviço de internet</td>\n",
              "      <td>Sem serviço de internet</td>\n",
              "      <td>2 Anos</td>\n",
              "      <td>Não</td>\n",
              "      <td>Transferência Bancária (Automática)</td>\n",
              "      <td>25.45</td>\n",
              "      <td>809.25</td>\n",
              "      <td>0.0</td>\n",
              "      <td>0.0</td>\n",
              "      <td>0.0</td>\n",
              "    </tr>\n",
              "    <tr>\n",
              "      <th>1</th>\n",
              "      <td>1961</td>\n",
              "      <td>Feminino</td>\n",
              "      <td>0.0</td>\n",
              "      <td>Não</td>\n",
              "      <td>Não</td>\n",
              "      <td>42.0</td>\n",
              "      <td>Sim</td>\n",
              "      <td>Sim</td>\n",
              "      <td>DSL</td>\n",
              "      <td>NaN</td>\n",
              "      <td>...</td>\n",
              "      <td>Não</td>\n",
              "      <td>Não</td>\n",
              "      <td>1 Ano</td>\n",
              "      <td>Sim</td>\n",
              "      <td>Transferência Bancária (Automática)</td>\n",
              "      <td>60.15</td>\n",
              "      <td>2421.6</td>\n",
              "      <td>0.0</td>\n",
              "      <td>0.0</td>\n",
              "      <td>0.0</td>\n",
              "    </tr>\n",
              "    <tr>\n",
              "      <th>2</th>\n",
              "      <td>5308</td>\n",
              "      <td>Feminino</td>\n",
              "      <td>0.0</td>\n",
              "      <td>Não</td>\n",
              "      <td>Não</td>\n",
              "      <td>69.0</td>\n",
              "      <td>Sim</td>\n",
              "      <td>Não</td>\n",
              "      <td>DSL</td>\n",
              "      <td>Sim</td>\n",
              "      <td>...</td>\n",
              "      <td>Sim</td>\n",
              "      <td>Sim</td>\n",
              "      <td>2 Anos</td>\n",
              "      <td>Sim</td>\n",
              "      <td>Cartão de Crédito (Automático)</td>\n",
              "      <td>82.45</td>\n",
              "      <td>5555.3</td>\n",
              "      <td>0.0</td>\n",
              "      <td>0.0</td>\n",
              "      <td>0.0</td>\n",
              "    </tr>\n",
              "    <tr>\n",
              "      <th>3</th>\n",
              "      <td>3587</td>\n",
              "      <td>Masculino</td>\n",
              "      <td>1.0</td>\n",
              "      <td>Não</td>\n",
              "      <td>Não</td>\n",
              "      <td>9.0</td>\n",
              "      <td>Sim</td>\n",
              "      <td>NaN</td>\n",
              "      <td>Fibra óptica</td>\n",
              "      <td>Não</td>\n",
              "      <td>...</td>\n",
              "      <td>Sim</td>\n",
              "      <td>Sim</td>\n",
              "      <td>Mensal</td>\n",
              "      <td>Sim</td>\n",
              "      <td>Cartão de Crédito (Automático)</td>\n",
              "      <td>99.45</td>\n",
              "      <td>919.4</td>\n",
              "      <td>0.0</td>\n",
              "      <td>0.0</td>\n",
              "      <td>1.0</td>\n",
              "    </tr>\n",
              "    <tr>\n",
              "      <th>4</th>\n",
              "      <td>576</td>\n",
              "      <td>Masculino</td>\n",
              "      <td>0.0</td>\n",
              "      <td>Sim</td>\n",
              "      <td>Sim</td>\n",
              "      <td>31.0</td>\n",
              "      <td>Sim</td>\n",
              "      <td>Sim</td>\n",
              "      <td>Fibra óptica</td>\n",
              "      <td>Sim</td>\n",
              "      <td>...</td>\n",
              "      <td>Sim</td>\n",
              "      <td>Não</td>\n",
              "      <td>1 Ano</td>\n",
              "      <td>Não</td>\n",
              "      <td>Transferência Bancária (Automática)</td>\n",
              "      <td>98.05</td>\n",
              "      <td>3082.1</td>\n",
              "      <td>NaN</td>\n",
              "      <td>0.0</td>\n",
              "      <td>0.0</td>\n",
              "    </tr>\n",
              "    <tr>\n",
              "      <th>...</th>\n",
              "      <td>...</td>\n",
              "      <td>...</td>\n",
              "      <td>...</td>\n",
              "      <td>...</td>\n",
              "      <td>...</td>\n",
              "      <td>...</td>\n",
              "      <td>...</td>\n",
              "      <td>...</td>\n",
              "      <td>...</td>\n",
              "      <td>...</td>\n",
              "      <td>...</td>\n",
              "      <td>...</td>\n",
              "      <td>...</td>\n",
              "      <td>...</td>\n",
              "      <td>...</td>\n",
              "      <td>...</td>\n",
              "      <td>...</td>\n",
              "      <td>...</td>\n",
              "      <td>...</td>\n",
              "      <td>...</td>\n",
              "      <td>...</td>\n",
              "    </tr>\n",
              "    <tr>\n",
              "      <th>4995</th>\n",
              "      <td>3151</td>\n",
              "      <td>Masculino</td>\n",
              "      <td>0.0</td>\n",
              "      <td>NaN</td>\n",
              "      <td>Sim</td>\n",
              "      <td>15.0</td>\n",
              "      <td>Sim</td>\n",
              "      <td>Não</td>\n",
              "      <td>Fibra óptica</td>\n",
              "      <td>Sim</td>\n",
              "      <td>...</td>\n",
              "      <td>Não</td>\n",
              "      <td>Não</td>\n",
              "      <td>Mensal</td>\n",
              "      <td>Não</td>\n",
              "      <td>Cheque por Carta</td>\n",
              "      <td>75.10</td>\n",
              "      <td>1151.55</td>\n",
              "      <td>4.0</td>\n",
              "      <td>0.0</td>\n",
              "      <td>0.0</td>\n",
              "    </tr>\n",
              "    <tr>\n",
              "      <th>4996</th>\n",
              "      <td>4502</td>\n",
              "      <td>Masculino</td>\n",
              "      <td>0.0</td>\n",
              "      <td>Não</td>\n",
              "      <td>Não</td>\n",
              "      <td>55.0</td>\n",
              "      <td>Sim</td>\n",
              "      <td>Sim</td>\n",
              "      <td>Fibra óptica</td>\n",
              "      <td>Não</td>\n",
              "      <td>...</td>\n",
              "      <td>Sim</td>\n",
              "      <td>Sim</td>\n",
              "      <td>Mensal</td>\n",
              "      <td>Sim</td>\n",
              "      <td>Cheque Eletrônico</td>\n",
              "      <td>96.80</td>\n",
              "      <td>5283.95</td>\n",
              "      <td>NaN</td>\n",
              "      <td>4.0</td>\n",
              "      <td>1.0</td>\n",
              "    </tr>\n",
              "    <tr>\n",
              "      <th>4997</th>\n",
              "      <td>3077</td>\n",
              "      <td>Masculino</td>\n",
              "      <td>0.0</td>\n",
              "      <td>Sim</td>\n",
              "      <td>Não</td>\n",
              "      <td>45.0</td>\n",
              "      <td>Sim</td>\n",
              "      <td>Não</td>\n",
              "      <td>NaN</td>\n",
              "      <td>Sim</td>\n",
              "      <td>...</td>\n",
              "      <td>Não</td>\n",
              "      <td>Não</td>\n",
              "      <td>2 Anos</td>\n",
              "      <td>Não</td>\n",
              "      <td>Cartão de Crédito (Automático)</td>\n",
              "      <td>53.30</td>\n",
              "      <td>2296.25</td>\n",
              "      <td>0.0</td>\n",
              "      <td>0.0</td>\n",
              "      <td>0.0</td>\n",
              "    </tr>\n",
              "    <tr>\n",
              "      <th>4998</th>\n",
              "      <td>3798</td>\n",
              "      <td>Masculino</td>\n",
              "      <td>0.0</td>\n",
              "      <td>Não</td>\n",
              "      <td>Não</td>\n",
              "      <td>42.0</td>\n",
              "      <td>Sim</td>\n",
              "      <td>Sim</td>\n",
              "      <td>Fibra óptica</td>\n",
              "      <td>Não</td>\n",
              "      <td>...</td>\n",
              "      <td>Sim</td>\n",
              "      <td>Sim</td>\n",
              "      <td>Mensal</td>\n",
              "      <td>Sim</td>\n",
              "      <td>Cheque Eletrônico</td>\n",
              "      <td>100.30</td>\n",
              "      <td>4222.95</td>\n",
              "      <td>0.0</td>\n",
              "      <td>0.0</td>\n",
              "      <td>0.0</td>\n",
              "    </tr>\n",
              "    <tr>\n",
              "      <th>4999</th>\n",
              "      <td>3023</td>\n",
              "      <td>Masculino</td>\n",
              "      <td>0.0</td>\n",
              "      <td>Sim</td>\n",
              "      <td>Sim</td>\n",
              "      <td>72.0</td>\n",
              "      <td>Sim</td>\n",
              "      <td>Sim</td>\n",
              "      <td>DSL</td>\n",
              "      <td>Sim</td>\n",
              "      <td>...</td>\n",
              "      <td>Sim</td>\n",
              "      <td>Sim</td>\n",
              "      <td>2 Anos</td>\n",
              "      <td>Não</td>\n",
              "      <td>NaN</td>\n",
              "      <td>89.70</td>\n",
              "      <td>6339.3</td>\n",
              "      <td>0.0</td>\n",
              "      <td>0.0</td>\n",
              "      <td>0.0</td>\n",
              "    </tr>\n",
              "  </tbody>\n",
              "</table>\n",
              "<p>5000 rows × 23 columns</p>\n",
              "</div>"
            ],
            "text/plain": [
              "        ID     Genero  Idoso Parceiro Dependentes  TempoDeServico  \\\n",
              "0     6027  Masculino    0.0      Sim         Sim            35.0   \n",
              "1     1961   Feminino    0.0      Não         Não            42.0   \n",
              "2     5308   Feminino    0.0      Não         Não            69.0   \n",
              "3     3587  Masculino    1.0      Não         Não             9.0   \n",
              "4      576  Masculino    0.0      Sim         Sim            31.0   \n",
              "...    ...        ...    ...      ...         ...             ...   \n",
              "4995  3151  Masculino    0.0      NaN         Sim            15.0   \n",
              "4996  4502  Masculino    0.0      Não         Não            55.0   \n",
              "4997  3077  Masculino    0.0      Sim         Não            45.0   \n",
              "4998  3798  Masculino    0.0      Não         Não            42.0   \n",
              "4999  3023  Masculino    0.0      Sim         Sim            72.0   \n",
              "\n",
              "     ServicoTelefone MultiLinhas ServicoInternet    ServicoSegurancaCyber  \\\n",
              "0                Sim         Sim             Não  Sem serviço de internet   \n",
              "1                Sim         Sim             DSL                      NaN   \n",
              "2                Sim         Não             DSL                      Sim   \n",
              "3                Sim         NaN    Fibra óptica                      Não   \n",
              "4                Sim         Sim    Fibra óptica                      Sim   \n",
              "...              ...         ...             ...                      ...   \n",
              "4995             Sim         Não    Fibra óptica                      Sim   \n",
              "4996             Sim         Sim    Fibra óptica                      Não   \n",
              "4997             Sim         Não             NaN                      Sim   \n",
              "4998             Sim         Sim    Fibra óptica                      Não   \n",
              "4999             Sim         Sim             DSL                      Sim   \n",
              "\n",
              "      ...              StreamingTV          StreamingFilmes Contrato  \\\n",
              "0     ...  Sem serviço de internet  Sem serviço de internet   2 Anos   \n",
              "1     ...                      Não                      Não    1 Ano   \n",
              "2     ...                      Sim                      Sim   2 Anos   \n",
              "3     ...                      Sim                      Sim   Mensal   \n",
              "4     ...                      Sim                      Não    1 Ano   \n",
              "...   ...                      ...                      ...      ...   \n",
              "4995  ...                      Não                      Não   Mensal   \n",
              "4996  ...                      Sim                      Sim   Mensal   \n",
              "4997  ...                      Não                      Não   2 Anos   \n",
              "4998  ...                      Sim                      Sim   Mensal   \n",
              "4999  ...                      Sim                      Sim   2 Anos   \n",
              "\n",
              "     BillingDigital                      MetodoPagamento FaturaMensal  \\\n",
              "0               Não  Transferência Bancária (Automática)        25.45   \n",
              "1               Sim  Transferência Bancária (Automática)        60.15   \n",
              "2               Sim       Cartão de Crédito (Automático)        82.45   \n",
              "3               Sim       Cartão de Crédito (Automático)        99.45   \n",
              "4               Não  Transferência Bancária (Automática)        98.05   \n",
              "...             ...                                  ...          ...   \n",
              "4995            Não                     Cheque por Carta        75.10   \n",
              "4996            Sim                    Cheque Eletrônico        96.80   \n",
              "4997            Não       Cartão de Crédito (Automático)        53.30   \n",
              "4998            Sim                    Cheque Eletrônico       100.30   \n",
              "4999            Não                                  NaN        89.70   \n",
              "\n",
              "     FaturaTotal NumTickets  NumTicketsTecnico Churn  \n",
              "0         809.25        0.0                0.0   0.0  \n",
              "1         2421.6        0.0                0.0   0.0  \n",
              "2         5555.3        0.0                0.0   0.0  \n",
              "3          919.4        0.0                0.0   1.0  \n",
              "4         3082.1        NaN                0.0   0.0  \n",
              "...          ...        ...                ...   ...  \n",
              "4995     1151.55        4.0                0.0   0.0  \n",
              "4996     5283.95        NaN                4.0   1.0  \n",
              "4997     2296.25        0.0                0.0   0.0  \n",
              "4998     4222.95        0.0                0.0   0.0  \n",
              "4999      6339.3        0.0                0.0   0.0  \n",
              "\n",
              "[5000 rows x 23 columns]"
            ]
          },
          "metadata": {},
          "output_type": "display_data"
        }
      ],
      "source": [
        "# Ler os dados do DataFrame, especificando o ponto e vírgula como separador e ignorando a primeira linha como cabeçalho\n",
        "df = pd.read_csv('C:\\\\Users\\\\User\\\\Downloads\\\\train_churn.csv', sep=';', header=None, skiprows=1)\n",
        "\n",
        "\n",
        "# Renomear as colunas\n",
        "new_columns = ['ID', 'Genero', 'Idoso', 'Parceiro', 'Dependentes', 'TempoDeServico', 'ServicoTelefone', 'MultiLinhas',\n",
        "               'ServicoInternet', 'ServicoSegurancaCyber', 'ServicoBackup', 'SeguroDispositivos', 'ServicoSuporteTecnico',\n",
        "               'StreamingTV', 'StreamingFilmes', 'Contrato', 'BillingDigital', 'MetodoPagamento', 'FaturaMensal',\n",
        "               'FaturaTotal', 'NumTickets', 'NumTicketsTecnico', 'Churn']\n",
        "df.columns = new_columns\n",
        "\n",
        "display(df)"
      ]
    },
    {
      "cell_type": "markdown",
      "id": "3qKbtz8F8_jh",
      "metadata": {
        "id": "3qKbtz8F8_jh"
      },
      "source": [
        "# Pré processamento de dados"
      ]
    },
    {
      "cell_type": "code",
      "execution_count": 3,
      "id": "9dcff0c9",
      "metadata": {
        "id": "9dcff0c9"
      },
      "outputs": [],
      "source": [
        "def preprocessamento(df):\n",
        "    # Calculando e preenchendo valores nulos em 'TempoDeServico' e 'FaturaMensal'\n",
        "    df['TempoDeServico'] = df['TempoDeServico'].fillna(df['TempoDeServico'].mean())\n",
        "    df['FaturaMensal'] = df['FaturaMensal'].fillna(df['FaturaMensal'].mean())\n",
        "    # Preenchendo valores nulos em 'Idoso' com a moda\n",
        "\n",
        "    df['Idoso'] = df['Idoso'].fillna(df['Idoso'].mode()[0])\n",
        "\n",
        "    # Mapeando 'Sim' para 1 e 'Não' para 0 em diversas colunas\n",
        "    mapeamentos = {\n",
        "        'Genero' : {'Masculino': 1, 'Feminino': 0},\n",
        "        'Parceiro': {'Sim': 1, 'Não': 0},\n",
        "        'Dependentes': {'Sim': 1, 'Não': 0},\n",
        "        'ServicoTelefone': {'Sim': 1, 'Não': 0},\n",
        "        'MultiLinhas': {'Sim': 1, 'Não': 0, 'Sem serviço de telefone': 0},\n",
        "        'ServicoInternet': {'Fibra óptica': 1, 'Não': 0, 'DSL': 1},\n",
        "        'ServicoSegurancaCyber': {'Sim': 1, 'Não': 0, 'Sem serviço de internet': 0},\n",
        "        'ServicoBackup': {'Sim': 1, 'Não': 0, 'Sem serviço de internet': 0},\n",
        "        'SeguroDispositivos': {'Sim': 1, 'Não': 0, 'Sem serviço de internet': 0},\n",
        "        'ServicoSuporteTecnico': {'Sim': 1, 'Não': 0, 'Sem serviço de internet': 0},\n",
        "        'StreamingTV': {'Sim': 1, 'Não': 0, 'Sem serviço de internet': 0},\n",
        "        'StreamingFilmes': {'Sim': 1, 'Não': 0, 'Sem serviço de internet': 0},\n",
        "        'BillingDigital' : {'Sim': 1, 'Não': 0},\n",
        "        'Contrato' : {'Mensal': 1, '1 Ano': 0, '2 Anos': 0} #Mensal = 1; anual (1 ou 2 anos) = 0\n",
        "    }\n",
        "    for coluna, mapeamento in mapeamentos.items():\n",
        "        df[coluna] = df[coluna].map(mapeamento)\n",
        "\n",
        "    return df"
      ]
    },
    {
      "cell_type": "code",
      "execution_count": 4,
      "id": "334eee9a",
      "metadata": {
        "id": "334eee9a"
      },
      "outputs": [],
      "source": [
        "df2 = preprocessamento(df)"
      ]
    },
    {
      "cell_type": "code",
      "execution_count": 5,
      "id": "f4da79c1",
      "metadata": {
        "id": "f4da79c1",
        "outputId": "9382be33-6d61-4cda-b524-162a16cceb4d"
      },
      "outputs": [
        {
          "data": {
            "text/plain": [
              "MetodoPagamento\n",
              "Cheque Eletrônico                      1583\n",
              "Cheque por Carta                       1095\n",
              "Transferência Bancária (Automática)    1045\n",
              "Cartão de Crédito (Automático)         1033\n",
              "Name: count, dtype: int64"
            ]
          },
          "execution_count": 5,
          "metadata": {},
          "output_type": "execute_result"
        }
      ],
      "source": [
        "df2['MetodoPagamento'].value_counts()"
      ]
    },
    {
      "cell_type": "code",
      "execution_count": 6,
      "id": "989dfd07",
      "metadata": {
        "id": "989dfd07"
      },
      "outputs": [],
      "source": [
        "def classificaPagamento(df2, coluna):\n",
        "  map = {'Cheque Eletrônico': 1, 'Cheque por Carta': 1, 'Cartão de Crédito': 0, 'Trasferência Bancária': 0}\n",
        "  df[coluna] = df[coluna].map(map)"
      ]
    },
    {
      "cell_type": "code",
      "execution_count": 7,
      "id": "d2f0a81e",
      "metadata": {
        "id": "d2f0a81e"
      },
      "outputs": [],
      "source": [
        "classificaPagamento(df2, 'MetodoPagamento')"
      ]
    },
    {
      "cell_type": "code",
      "execution_count": 8,
      "id": "fa58f29b",
      "metadata": {
        "id": "fa58f29b",
        "outputId": "666239c6-9538-4a2e-86c8-50aa0787ab5f"
      },
      "outputs": [
        {
          "data": {
            "text/plain": [
              "0       NaN\n",
              "1       NaN\n",
              "2       NaN\n",
              "3       NaN\n",
              "4       NaN\n",
              "       ... \n",
              "4995    1.0\n",
              "4996    1.0\n",
              "4997    NaN\n",
              "4998    1.0\n",
              "4999    NaN\n",
              "Name: MetodoPagamento, Length: 5000, dtype: float64"
            ]
          },
          "execution_count": 8,
          "metadata": {},
          "output_type": "execute_result"
        }
      ],
      "source": [
        "df2['MetodoPagamento']"
      ]
    },
    {
      "cell_type": "code",
      "execution_count": 9,
      "id": "21402a83",
      "metadata": {
        "id": "21402a83"
      },
      "outputs": [],
      "source": [
        "# Substituir espaços em branco por NaN na coluna 'FaturaTotal'\n",
        "df2['FaturaTotal'] = df2['FaturaTotal'].replace(' ', np.nan)\n",
        "# Converter a coluna para float\n",
        "df2['FaturaTotal'] = df2['FaturaTotal'].astype(float)"
      ]
    },
    {
      "cell_type": "code",
      "execution_count": 10,
      "id": "51362c17",
      "metadata": {
        "id": "51362c17"
      },
      "outputs": [],
      "source": [
        "columns_mode = ['Parceiro','Contrato', 'Dependentes','ServicoTelefone','Genero','MultiLinhas',\n",
        "                  'ServicoInternet', 'ServicoSegurancaCyber', 'ServicoBackup', 'SeguroDispositivos',\n",
        "                  'ServicoSuporteTecnico', 'StreamingTV', 'StreamingFilmes', 'BillingDigital', 'NumTickets',\n",
        "                  'NumTicketsTecnico','Churn', 'MetodoPagamento']\n",
        "\n",
        "for coluna in columns_mode:\n",
        "    df2[coluna] = df2[coluna].fillna(df2[coluna].mode().iloc[0])"
      ]
    },
    {
      "cell_type": "code",
      "execution_count": 11,
      "id": "0edc0898",
      "metadata": {
        "id": "0edc0898"
      },
      "outputs": [],
      "source": [
        "columns_mean = ['FaturaMensal', 'FaturaTotal','TempoDeServico']\n",
        "\n",
        "for column in columns_mean:\n",
        "  df2[columns_mean] = df2[columns_mean].fillna(df2[columns_mean].mean())"
      ]
    },
    {
      "cell_type": "code",
      "execution_count": 12,
      "id": "996d0431",
      "metadata": {
        "id": "996d0431",
        "outputId": "1c10a7cb-cf45-4282-b5bd-5a914f2fe73b"
      },
      "outputs": [
        {
          "data": {
            "text/plain": [
              "ID                       0\n",
              "Genero                   0\n",
              "Idoso                    0\n",
              "Parceiro                 0\n",
              "Dependentes              0\n",
              "TempoDeServico           0\n",
              "ServicoTelefone          0\n",
              "MultiLinhas              0\n",
              "ServicoInternet          0\n",
              "ServicoSegurancaCyber    0\n",
              "ServicoBackup            0\n",
              "SeguroDispositivos       0\n",
              "ServicoSuporteTecnico    0\n",
              "StreamingTV              0\n",
              "StreamingFilmes          0\n",
              "Contrato                 0\n",
              "BillingDigital           0\n",
              "MetodoPagamento          0\n",
              "FaturaMensal             0\n",
              "FaturaTotal              0\n",
              "NumTickets               0\n",
              "NumTicketsTecnico        0\n",
              "Churn                    0\n",
              "dtype: int64"
            ]
          },
          "execution_count": 12,
          "metadata": {},
          "output_type": "execute_result"
        }
      ],
      "source": [
        "df2.isnull().sum()"
      ]
    },
    {
      "cell_type": "code",
      "execution_count": 13,
      "id": "5c47a71a",
      "metadata": {
        "id": "5c47a71a",
        "outputId": "0d49ddf6-2682-49c2-bd9f-0d45e8b9e8cc"
      },
      "outputs": [
        {
          "data": {
            "text/html": [
              "<div>\n",
              "<style scoped>\n",
              "    .dataframe tbody tr th:only-of-type {\n",
              "        vertical-align: middle;\n",
              "    }\n",
              "\n",
              "    .dataframe tbody tr th {\n",
              "        vertical-align: top;\n",
              "    }\n",
              "\n",
              "    .dataframe thead th {\n",
              "        text-align: right;\n",
              "    }\n",
              "</style>\n",
              "<table border=\"1\" class=\"dataframe\">\n",
              "  <thead>\n",
              "    <tr style=\"text-align: right;\">\n",
              "      <th></th>\n",
              "      <th>ID</th>\n",
              "      <th>Genero</th>\n",
              "      <th>Idoso</th>\n",
              "      <th>Parceiro</th>\n",
              "      <th>Dependentes</th>\n",
              "      <th>TempoDeServico</th>\n",
              "      <th>ServicoTelefone</th>\n",
              "      <th>MultiLinhas</th>\n",
              "      <th>ServicoInternet</th>\n",
              "      <th>ServicoSegurancaCyber</th>\n",
              "      <th>...</th>\n",
              "      <th>StreamingTV</th>\n",
              "      <th>StreamingFilmes</th>\n",
              "      <th>Contrato</th>\n",
              "      <th>BillingDigital</th>\n",
              "      <th>MetodoPagamento</th>\n",
              "      <th>FaturaMensal</th>\n",
              "      <th>FaturaTotal</th>\n",
              "      <th>NumTickets</th>\n",
              "      <th>NumTicketsTecnico</th>\n",
              "      <th>Churn</th>\n",
              "    </tr>\n",
              "  </thead>\n",
              "  <tbody>\n",
              "    <tr>\n",
              "      <th>0</th>\n",
              "      <td>6027</td>\n",
              "      <td>1.0</td>\n",
              "      <td>0.0</td>\n",
              "      <td>1.0</td>\n",
              "      <td>1.0</td>\n",
              "      <td>35.0</td>\n",
              "      <td>1.0</td>\n",
              "      <td>1.0</td>\n",
              "      <td>0.0</td>\n",
              "      <td>0.0</td>\n",
              "      <td>...</td>\n",
              "      <td>0.0</td>\n",
              "      <td>0.0</td>\n",
              "      <td>0.0</td>\n",
              "      <td>0.0</td>\n",
              "      <td>1.0</td>\n",
              "      <td>25.45</td>\n",
              "      <td>809.25</td>\n",
              "      <td>0.0</td>\n",
              "      <td>0.0</td>\n",
              "      <td>0.0</td>\n",
              "    </tr>\n",
              "    <tr>\n",
              "      <th>1</th>\n",
              "      <td>1961</td>\n",
              "      <td>0.0</td>\n",
              "      <td>0.0</td>\n",
              "      <td>0.0</td>\n",
              "      <td>0.0</td>\n",
              "      <td>42.0</td>\n",
              "      <td>1.0</td>\n",
              "      <td>1.0</td>\n",
              "      <td>1.0</td>\n",
              "      <td>0.0</td>\n",
              "      <td>...</td>\n",
              "      <td>0.0</td>\n",
              "      <td>0.0</td>\n",
              "      <td>0.0</td>\n",
              "      <td>1.0</td>\n",
              "      <td>1.0</td>\n",
              "      <td>60.15</td>\n",
              "      <td>2421.60</td>\n",
              "      <td>0.0</td>\n",
              "      <td>0.0</td>\n",
              "      <td>0.0</td>\n",
              "    </tr>\n",
              "    <tr>\n",
              "      <th>2</th>\n",
              "      <td>5308</td>\n",
              "      <td>0.0</td>\n",
              "      <td>0.0</td>\n",
              "      <td>0.0</td>\n",
              "      <td>0.0</td>\n",
              "      <td>69.0</td>\n",
              "      <td>1.0</td>\n",
              "      <td>0.0</td>\n",
              "      <td>1.0</td>\n",
              "      <td>1.0</td>\n",
              "      <td>...</td>\n",
              "      <td>1.0</td>\n",
              "      <td>1.0</td>\n",
              "      <td>0.0</td>\n",
              "      <td>1.0</td>\n",
              "      <td>1.0</td>\n",
              "      <td>82.45</td>\n",
              "      <td>5555.30</td>\n",
              "      <td>0.0</td>\n",
              "      <td>0.0</td>\n",
              "      <td>0.0</td>\n",
              "    </tr>\n",
              "    <tr>\n",
              "      <th>3</th>\n",
              "      <td>3587</td>\n",
              "      <td>1.0</td>\n",
              "      <td>1.0</td>\n",
              "      <td>0.0</td>\n",
              "      <td>0.0</td>\n",
              "      <td>9.0</td>\n",
              "      <td>1.0</td>\n",
              "      <td>0.0</td>\n",
              "      <td>1.0</td>\n",
              "      <td>0.0</td>\n",
              "      <td>...</td>\n",
              "      <td>1.0</td>\n",
              "      <td>1.0</td>\n",
              "      <td>1.0</td>\n",
              "      <td>1.0</td>\n",
              "      <td>1.0</td>\n",
              "      <td>99.45</td>\n",
              "      <td>919.40</td>\n",
              "      <td>0.0</td>\n",
              "      <td>0.0</td>\n",
              "      <td>1.0</td>\n",
              "    </tr>\n",
              "    <tr>\n",
              "      <th>4</th>\n",
              "      <td>576</td>\n",
              "      <td>1.0</td>\n",
              "      <td>0.0</td>\n",
              "      <td>1.0</td>\n",
              "      <td>1.0</td>\n",
              "      <td>31.0</td>\n",
              "      <td>1.0</td>\n",
              "      <td>1.0</td>\n",
              "      <td>1.0</td>\n",
              "      <td>1.0</td>\n",
              "      <td>...</td>\n",
              "      <td>1.0</td>\n",
              "      <td>0.0</td>\n",
              "      <td>0.0</td>\n",
              "      <td>0.0</td>\n",
              "      <td>1.0</td>\n",
              "      <td>98.05</td>\n",
              "      <td>3082.10</td>\n",
              "      <td>0.0</td>\n",
              "      <td>0.0</td>\n",
              "      <td>0.0</td>\n",
              "    </tr>\n",
              "    <tr>\n",
              "      <th>...</th>\n",
              "      <td>...</td>\n",
              "      <td>...</td>\n",
              "      <td>...</td>\n",
              "      <td>...</td>\n",
              "      <td>...</td>\n",
              "      <td>...</td>\n",
              "      <td>...</td>\n",
              "      <td>...</td>\n",
              "      <td>...</td>\n",
              "      <td>...</td>\n",
              "      <td>...</td>\n",
              "      <td>...</td>\n",
              "      <td>...</td>\n",
              "      <td>...</td>\n",
              "      <td>...</td>\n",
              "      <td>...</td>\n",
              "      <td>...</td>\n",
              "      <td>...</td>\n",
              "      <td>...</td>\n",
              "      <td>...</td>\n",
              "      <td>...</td>\n",
              "    </tr>\n",
              "    <tr>\n",
              "      <th>4995</th>\n",
              "      <td>3151</td>\n",
              "      <td>1.0</td>\n",
              "      <td>0.0</td>\n",
              "      <td>0.0</td>\n",
              "      <td>1.0</td>\n",
              "      <td>15.0</td>\n",
              "      <td>1.0</td>\n",
              "      <td>0.0</td>\n",
              "      <td>1.0</td>\n",
              "      <td>1.0</td>\n",
              "      <td>...</td>\n",
              "      <td>0.0</td>\n",
              "      <td>0.0</td>\n",
              "      <td>1.0</td>\n",
              "      <td>0.0</td>\n",
              "      <td>1.0</td>\n",
              "      <td>75.10</td>\n",
              "      <td>1151.55</td>\n",
              "      <td>4.0</td>\n",
              "      <td>0.0</td>\n",
              "      <td>0.0</td>\n",
              "    </tr>\n",
              "    <tr>\n",
              "      <th>4996</th>\n",
              "      <td>4502</td>\n",
              "      <td>1.0</td>\n",
              "      <td>0.0</td>\n",
              "      <td>0.0</td>\n",
              "      <td>0.0</td>\n",
              "      <td>55.0</td>\n",
              "      <td>1.0</td>\n",
              "      <td>1.0</td>\n",
              "      <td>1.0</td>\n",
              "      <td>0.0</td>\n",
              "      <td>...</td>\n",
              "      <td>1.0</td>\n",
              "      <td>1.0</td>\n",
              "      <td>1.0</td>\n",
              "      <td>1.0</td>\n",
              "      <td>1.0</td>\n",
              "      <td>96.80</td>\n",
              "      <td>5283.95</td>\n",
              "      <td>0.0</td>\n",
              "      <td>4.0</td>\n",
              "      <td>1.0</td>\n",
              "    </tr>\n",
              "    <tr>\n",
              "      <th>4997</th>\n",
              "      <td>3077</td>\n",
              "      <td>1.0</td>\n",
              "      <td>0.0</td>\n",
              "      <td>1.0</td>\n",
              "      <td>0.0</td>\n",
              "      <td>45.0</td>\n",
              "      <td>1.0</td>\n",
              "      <td>0.0</td>\n",
              "      <td>1.0</td>\n",
              "      <td>1.0</td>\n",
              "      <td>...</td>\n",
              "      <td>0.0</td>\n",
              "      <td>0.0</td>\n",
              "      <td>0.0</td>\n",
              "      <td>0.0</td>\n",
              "      <td>1.0</td>\n",
              "      <td>53.30</td>\n",
              "      <td>2296.25</td>\n",
              "      <td>0.0</td>\n",
              "      <td>0.0</td>\n",
              "      <td>0.0</td>\n",
              "    </tr>\n",
              "    <tr>\n",
              "      <th>4998</th>\n",
              "      <td>3798</td>\n",
              "      <td>1.0</td>\n",
              "      <td>0.0</td>\n",
              "      <td>0.0</td>\n",
              "      <td>0.0</td>\n",
              "      <td>42.0</td>\n",
              "      <td>1.0</td>\n",
              "      <td>1.0</td>\n",
              "      <td>1.0</td>\n",
              "      <td>0.0</td>\n",
              "      <td>...</td>\n",
              "      <td>1.0</td>\n",
              "      <td>1.0</td>\n",
              "      <td>1.0</td>\n",
              "      <td>1.0</td>\n",
              "      <td>1.0</td>\n",
              "      <td>100.30</td>\n",
              "      <td>4222.95</td>\n",
              "      <td>0.0</td>\n",
              "      <td>0.0</td>\n",
              "      <td>0.0</td>\n",
              "    </tr>\n",
              "    <tr>\n",
              "      <th>4999</th>\n",
              "      <td>3023</td>\n",
              "      <td>1.0</td>\n",
              "      <td>0.0</td>\n",
              "      <td>1.0</td>\n",
              "      <td>1.0</td>\n",
              "      <td>72.0</td>\n",
              "      <td>1.0</td>\n",
              "      <td>1.0</td>\n",
              "      <td>1.0</td>\n",
              "      <td>1.0</td>\n",
              "      <td>...</td>\n",
              "      <td>1.0</td>\n",
              "      <td>1.0</td>\n",
              "      <td>0.0</td>\n",
              "      <td>0.0</td>\n",
              "      <td>1.0</td>\n",
              "      <td>89.70</td>\n",
              "      <td>6339.30</td>\n",
              "      <td>0.0</td>\n",
              "      <td>0.0</td>\n",
              "      <td>0.0</td>\n",
              "    </tr>\n",
              "  </tbody>\n",
              "</table>\n",
              "<p>5000 rows × 23 columns</p>\n",
              "</div>"
            ],
            "text/plain": [
              "        ID  Genero  Idoso  Parceiro  Dependentes  TempoDeServico  \\\n",
              "0     6027     1.0    0.0       1.0          1.0            35.0   \n",
              "1     1961     0.0    0.0       0.0          0.0            42.0   \n",
              "2     5308     0.0    0.0       0.0          0.0            69.0   \n",
              "3     3587     1.0    1.0       0.0          0.0             9.0   \n",
              "4      576     1.0    0.0       1.0          1.0            31.0   \n",
              "...    ...     ...    ...       ...          ...             ...   \n",
              "4995  3151     1.0    0.0       0.0          1.0            15.0   \n",
              "4996  4502     1.0    0.0       0.0          0.0            55.0   \n",
              "4997  3077     1.0    0.0       1.0          0.0            45.0   \n",
              "4998  3798     1.0    0.0       0.0          0.0            42.0   \n",
              "4999  3023     1.0    0.0       1.0          1.0            72.0   \n",
              "\n",
              "      ServicoTelefone  MultiLinhas  ServicoInternet  ServicoSegurancaCyber  \\\n",
              "0                 1.0          1.0              0.0                    0.0   \n",
              "1                 1.0          1.0              1.0                    0.0   \n",
              "2                 1.0          0.0              1.0                    1.0   \n",
              "3                 1.0          0.0              1.0                    0.0   \n",
              "4                 1.0          1.0              1.0                    1.0   \n",
              "...               ...          ...              ...                    ...   \n",
              "4995              1.0          0.0              1.0                    1.0   \n",
              "4996              1.0          1.0              1.0                    0.0   \n",
              "4997              1.0          0.0              1.0                    1.0   \n",
              "4998              1.0          1.0              1.0                    0.0   \n",
              "4999              1.0          1.0              1.0                    1.0   \n",
              "\n",
              "      ...  StreamingTV  StreamingFilmes  Contrato  BillingDigital  \\\n",
              "0     ...          0.0              0.0       0.0             0.0   \n",
              "1     ...          0.0              0.0       0.0             1.0   \n",
              "2     ...          1.0              1.0       0.0             1.0   \n",
              "3     ...          1.0              1.0       1.0             1.0   \n",
              "4     ...          1.0              0.0       0.0             0.0   \n",
              "...   ...          ...              ...       ...             ...   \n",
              "4995  ...          0.0              0.0       1.0             0.0   \n",
              "4996  ...          1.0              1.0       1.0             1.0   \n",
              "4997  ...          0.0              0.0       0.0             0.0   \n",
              "4998  ...          1.0              1.0       1.0             1.0   \n",
              "4999  ...          1.0              1.0       0.0             0.0   \n",
              "\n",
              "      MetodoPagamento  FaturaMensal  FaturaTotal  NumTickets  \\\n",
              "0                 1.0         25.45       809.25         0.0   \n",
              "1                 1.0         60.15      2421.60         0.0   \n",
              "2                 1.0         82.45      5555.30         0.0   \n",
              "3                 1.0         99.45       919.40         0.0   \n",
              "4                 1.0         98.05      3082.10         0.0   \n",
              "...               ...           ...          ...         ...   \n",
              "4995              1.0         75.10      1151.55         4.0   \n",
              "4996              1.0         96.80      5283.95         0.0   \n",
              "4997              1.0         53.30      2296.25         0.0   \n",
              "4998              1.0        100.30      4222.95         0.0   \n",
              "4999              1.0         89.70      6339.30         0.0   \n",
              "\n",
              "      NumTicketsTecnico  Churn  \n",
              "0                   0.0    0.0  \n",
              "1                   0.0    0.0  \n",
              "2                   0.0    0.0  \n",
              "3                   0.0    1.0  \n",
              "4                   0.0    0.0  \n",
              "...                 ...    ...  \n",
              "4995                0.0    0.0  \n",
              "4996                4.0    1.0  \n",
              "4997                0.0    0.0  \n",
              "4998                0.0    0.0  \n",
              "4999                0.0    0.0  \n",
              "\n",
              "[5000 rows x 23 columns]"
            ]
          },
          "execution_count": 13,
          "metadata": {},
          "output_type": "execute_result"
        }
      ],
      "source": [
        "df2"
      ]
    },
    {
      "cell_type": "markdown",
      "id": "Bir243iv9Bjy",
      "metadata": {
        "id": "Bir243iv9Bjy"
      },
      "source": [
        "# Aplicando modelos e realizando Grid Search "
      ]
    },
    {
      "cell_type": "code",
      "execution_count": 14,
      "id": "9d2a1156",
      "metadata": {
        "id": "9d2a1156"
      },
      "outputs": [],
      "source": [
        "from sklearn.model_selection import train_test_split, GridSearchCV\n",
        "from sklearn.ensemble import RandomForestClassifier\n",
        "from sklearn.neural_network import MLPClassifier\n",
        "from sklearn.tree import DecisionTreeClassifier\n",
        "from sklearn.metrics import accuracy_score\n",
        "from sklearn.ensemble import AdaBoostClassifier\n",
        "from sklearn.svm import SVC\n",
        "from sklearn.naive_bayes import GaussianNB"
      ]
    },
    {
      "cell_type": "code",
      "execution_count": 15,
      "id": "53cfc45a",
      "metadata": {
        "id": "53cfc45a"
      },
      "outputs": [],
      "source": [
        "X = df2.drop(columns=['Churn'])\n",
        "y = df2['Churn']\n",
        "\n",
        "# Dividir os dados em conjuntos de treinamento e teste\n",
        "X_train, X_test, y_train, y_test = train_test_split(X, y, test_size=0.3, random_state=42)"
      ]
    },
    {
      "cell_type": "markdown",
      "id": "FgzdvUQc9DWu",
      "metadata": {
        "id": "FgzdvUQc9DWu"
      },
      "source": [
        "### Random Forest"
      ]
    },
    {
      "cell_type": "code",
      "execution_count": 16,
      "id": "9417b759",
      "metadata": {
        "id": "9417b759",
        "outputId": "7acabac0-82e9-4bf3-da06-e85658509c52"
      },
      "outputs": [
        {
          "name": "stdout",
          "output_type": "stream",
          "text": [
            "Accuracy: 0.8373333333333334\n",
            "Best Parameters: {'max_depth': None, 'min_samples_leaf': 1, 'min_samples_split': 5, 'n_estimators': 200}\n"
          ]
        }
      ],
      "source": [
        "# Definir os parâmetros para o grid search do Random Forest\n",
        "param_grid_rf = {\n",
        "    'n_estimators': [50, 100, 200],\n",
        "    'max_depth': [None, 10, 20],\n",
        "    'min_samples_split': [2, 5, 10],\n",
        "    'min_samples_leaf': [1, 2, 4]\n",
        "}\n",
        "\n",
        "# Inicializar o classificador Random Forest\n",
        "rf = RandomForestClassifier(random_state=42)\n",
        "\n",
        "# Inicializar o GridSearchCV para o Random Forest\n",
        "grid_search_rf = GridSearchCV(estimator=rf, param_grid=param_grid_rf, cv=5, scoring='accuracy', n_jobs=-1)\n",
        "\n",
        "# Executar o grid search para o Random Forest\n",
        "grid_search_rf.fit(X_train, y_train)\n",
        "\n",
        "# Melhor modelo após o grid search\n",
        "best_rf = grid_search_rf.best_estimator_\n",
        "\n",
        "# Prever os rótulos do conjunto de teste\n",
        "y_pred = best_rf.predict(X_test)\n",
        "\n",
        "# Calcular a precisão do modelo\n",
        "accuracy = accuracy_score(y_test, y_pred)\n",
        "print(\"Accuracy:\", accuracy)\n",
        "\n",
        "# Melhores parâmetros encontrados\n",
        "print(\"Best Parameters:\", grid_search_rf.best_params_)"
      ]
    },
    {
      "cell_type": "markdown",
      "id": "xljFhKuX9Etb",
      "metadata": {
        "id": "xljFhKuX9Etb"
      },
      "source": [
        "### MultiLayer Classifier"
      ]
    },
    {
      "cell_type": "code",
      "execution_count": 17,
      "id": "b6bef559",
      "metadata": {
        "id": "b6bef559",
        "outputId": "02acccc7-3d90-4864-d1a0-eb9e0918aba8"
      },
      "outputs": [
        {
          "name": "stdout",
          "output_type": "stream",
          "text": [
            "Accuracy: 0.8\n",
            "Best Parameters: {'activation': 'relu', 'hidden_layer_sizes': (100,), 'learning_rate': 'constant', 'solver': 'adam'}\n"
          ]
        }
      ],
      "source": [
        "# Definir os parâmetros para o grid search do MLPClassifier\n",
        "param_grid_mlp = {\n",
        "    'hidden_layer_sizes': [(50,), (100,), (50, 50), (100, 100)],\n",
        "    'activation': ['logistic', 'tanh', 'relu'],\n",
        "    'solver': ['sgd', 'adam'],\n",
        "    'learning_rate': ['constant', 'adaptive']\n",
        "}\n",
        "\n",
        "# Inicializar o classificador MLPClassifier\n",
        "mlp = MLPClassifier(random_state=42)\n",
        "\n",
        "# Inicializar o GridSearchCV para o MLPClassifier\n",
        "grid_search_mlp = GridSearchCV(estimator=mlp, param_grid=param_grid_mlp, cv=5, scoring='accuracy', n_jobs=-1)\n",
        "\n",
        "# Executar o grid search para o MLPClassifier\n",
        "grid_search_mlp.fit(X_train, y_train)\n",
        "\n",
        "# Melhor modelo após o grid search\n",
        "best_mlp = grid_search_mlp.best_estimator_\n",
        "\n",
        "# Prever os rótulos do conjunto de teste\n",
        "y_pred = best_mlp.predict(X_test)\n",
        "\n",
        "# Calcular a precisão do modelo\n",
        "accuracy = accuracy_score(y_test, y_pred)\n",
        "print(\"Accuracy:\", accuracy)\n",
        "\n",
        "# Melhores parâmetros encontrados\n",
        "print(\"Best Parameters:\", grid_search_mlp.best_params_)"
      ]
    },
    {
      "cell_type": "markdown",
      "id": "ffvDtt0I9GLU",
      "metadata": {
        "id": "ffvDtt0I9GLU"
      },
      "source": [
        "### Decision Tree"
      ]
    },
    {
      "cell_type": "code",
      "execution_count": 18,
      "id": "49efeeb4",
      "metadata": {
        "id": "49efeeb4",
        "outputId": "1ef22915-0678-4c4e-d7ea-82f9ac66edbe"
      },
      "outputs": [
        {
          "name": "stdout",
          "output_type": "stream",
          "text": [
            "Accuracy: 0.7913333333333333\n",
            "Best Parameters: {'criterion': 'gini', 'max_depth': 10, 'min_samples_leaf': 4, 'min_samples_split': 10}\n"
          ]
        }
      ],
      "source": [
        "# Definir os parâmetros para o grid search da Árvore de Decisão\n",
        "param_grid_dt = {\n",
        "    'criterion': ['gini', 'entropy'],\n",
        "    'max_depth': [None, 10, 20],\n",
        "    'min_samples_split': [2, 5, 10],\n",
        "    'min_samples_leaf': [1, 2, 4]\n",
        "}\n",
        "\n",
        "# Inicializar o classificador Árvore de Decisão\n",
        "dt = DecisionTreeClassifier(random_state=42)\n",
        "\n",
        "# Inicializar o GridSearchCV para a Árvore de Decisão\n",
        "grid_search_dt = GridSearchCV(estimator=dt, param_grid=param_grid_dt, cv=5, scoring='accuracy', n_jobs=-1)\n",
        "\n",
        "# Executar o grid search para a Árvore de Decisão\n",
        "grid_search_dt.fit(X_train, y_train)\n",
        "\n",
        "# Melhor modelo após o grid search\n",
        "best_dt = grid_search_dt.best_estimator_\n",
        "\n",
        "# Prever os rótulos do conjunto de teste\n",
        "y_pred = best_dt.predict(X_test)\n",
        "\n",
        "# Calcular a precisão do modelo\n",
        "accuracy = accuracy_score(y_test, y_pred)\n",
        "print(\"Accuracy:\", accuracy)\n",
        "\n",
        "# Melhores parâmetros encontrados\n",
        "print(\"Best Parameters:\", grid_search_dt.best_params_)"
      ]
    },
    {
      "cell_type": "markdown",
      "id": "TRF1YpJ79IGk",
      "metadata": {
        "id": "TRF1YpJ79IGk"
      },
      "source": [
        "### Adaboost"
      ]
    },
    {
      "cell_type": "code",
      "execution_count": 19,
      "id": "af6bd90b",
      "metadata": {
        "id": "af6bd90b",
        "outputId": "d802d6c9-707d-4a53-85cc-56e5244533c5"
      },
      "outputs": [
        {
          "name": "stderr",
          "output_type": "stream",
          "text": [
            "c:\\Users\\User\\AppData\\Local\\Programs\\Python\\Python39\\lib\\site-packages\\sklearn\\ensemble\\_weight_boosting.py:519: FutureWarning: The SAMME.R algorithm (the default) is deprecated and will be removed in 1.6. Use the SAMME algorithm to circumvent this warning.\n",
            "  warnings.warn(\n"
          ]
        },
        {
          "name": "stdout",
          "output_type": "stream",
          "text": [
            "Accuracy: 0.8426666666666667\n",
            "Best Parameters: {'learning_rate': 1.0, 'n_estimators': 50}\n"
          ]
        }
      ],
      "source": [
        "param_grid_adaboost = {\n",
        "    'n_estimators': [50, 100, 200],\n",
        "    'learning_rate': [0.01, 0.1, 1.0]\n",
        "}\n",
        "\n",
        "# Inicializar o classificador AdaBoost\n",
        "adaboost = AdaBoostClassifier(random_state=42)\n",
        "\n",
        "# Inicializar o GridSearchCV para o AdaBoost\n",
        "grid_search_adaboost = GridSearchCV(estimator=adaboost, param_grid=param_grid_adaboost, cv=5, scoring='accuracy', n_jobs=-1)\n",
        "\n",
        "# Executar o grid search para o AdaBoost\n",
        "grid_search_adaboost.fit(X_train, y_train)\n",
        "\n",
        "# Melhor modelo após o grid search\n",
        "best_adaboost = grid_search_adaboost.best_estimator_\n",
        "\n",
        "# Prever os rótulos do conjunto de teste\n",
        "y_pred = best_adaboost.predict(X_test)\n",
        "\n",
        "# Calcular a precisão do modelo\n",
        "accuracy = accuracy_score(y_test, y_pred)\n",
        "print(\"Accuracy:\", accuracy)\n",
        "\n",
        "# Melhores parâmetros encontrados\n",
        "print(\"Best Parameters:\", grid_search_adaboost.best_params_)"
      ]
    },
    {
      "cell_type": "markdown",
      "id": "N0JZQLR59Jue",
      "metadata": {
        "id": "N0JZQLR59Jue"
      },
      "source": [
        "### Navie Bayes"
      ]
    },
    {
      "cell_type": "code",
      "execution_count": 20,
      "id": "72e4ffaa",
      "metadata": {
        "id": "72e4ffaa",
        "outputId": "75faf75c-98dc-4334-9f52-f07648c0393c"
      },
      "outputs": [
        {
          "name": "stdout",
          "output_type": "stream",
          "text": [
            "Accuracy: 0.8246666666666667\n",
            "Best Parameters: {'var_smoothing': 1e-07}\n"
          ]
        }
      ],
      "source": [
        "# Definir os parâmetros para o grid search (não há parâmetros para o Naive Bayes, isso é apenas para fins de demonstração)\n",
        "param_grid_nb = {\n",
        "    'var_smoothing': [1e-9, 1e-8, 1e-7]  # var_smoothing é um parâmetro específico para lidar com zero variações\n",
        "}\n",
        "\n",
        "# Inicializar o classificador Naive Bayes Gaussian\n",
        "nb = GaussianNB()\n",
        "\n",
        "# Inicializar o GridSearchCV para o Naive Bayes\n",
        "grid_search_nb = GridSearchCV(estimator=nb, param_grid=param_grid_nb, cv=5, scoring='accuracy')\n",
        "\n",
        "# Executar o grid search para o Naive Bayes\n",
        "grid_search_nb.fit(X_train, y_train)\n",
        "\n",
        "# Melhor modelo após o grid search\n",
        "best_nb = grid_search_nb.best_estimator_\n",
        "\n",
        "# Prever os rótulos do conjunto de teste\n",
        "y_pred = best_nb.predict(X_test)\n",
        "\n",
        "# Calcular a precisão do modelo\n",
        "accuracy = accuracy_score(y_test, y_pred)\n",
        "print(\"Accuracy:\", accuracy)\n",
        "\n",
        "# Melhores parâmetros encontrados (não há parâmetros para o Naive Bayes)\n",
        "print(\"Best Parameters:\", grid_search_nb.best_params_)"
      ]
    },
    {
      "cell_type": "markdown",
      "id": "NQ2eS2ep9LrA",
      "metadata": {
        "id": "NQ2eS2ep9LrA"
      },
      "source": [
        "### Gráfico da acurácia de cada modelo"
      ]
    },
    {
      "cell_type": "code",
      "execution_count": 21,
      "id": "c3f47c07",
      "metadata": {
        "id": "c3f47c07",
        "outputId": "a7551804-29e6-4d03-c3c3-6b5c5bef539c"
      },
      "outputs": [
        {
          "data": {
            "image/png": "[encoded data removed]",
            "text/plain": [
              "<Figure size 1000x600 with 1 Axes>"
            ]
          },
          "metadata": {},
          "output_type": "display_data"
        },
        {
          "name": "stdout",
          "output_type": "stream",
          "text": [
            "Random Forest:\n",
            "  Accuracy: 0.8373333333333334\n",
            "  Precision: 0.7156549520766773\n",
            "  Recall: 0.5910290237467019\n",
            "  F1 Score: 0.6473988439306358\n",
            "MLP Classifier:\n",
            "  Accuracy: 0.8\n",
            "  Precision: 0.6076294277929155\n",
            "  Recall: 0.5883905013192612\n",
            "  F1 Score: 0.5978552278820375\n",
            "Decision Tree:\n",
            "  Accuracy: 0.7913333333333333\n",
            "  Precision: 0.5921787709497207\n",
            "  Recall: 0.5593667546174143\n",
            "  F1 Score: 0.5753052917232022\n",
            "Naive Bayes:\n",
            "  Accuracy: 0.8246666666666667\n",
            "  Precision: 0.7\n",
            "  Recall: 0.5356200527704486\n",
            "  F1 Score: 0.6068759342301944\n",
            "AdaBoost:\n",
            "  Accuracy: 0.8426666666666667\n",
            "  Precision: 0.712166172106825\n",
            "  Recall: 0.633245382585752\n",
            "  F1 Score: 0.6703910614525139\n"
          ]
        }
      ],
      "source": [
        "from sklearn.metrics import accuracy_score, precision_score, recall_score, f1_score\n",
        "# Definir os modelos e as predições\n",
        "models = {\n",
        "    'Random Forest': best_rf,\n",
        "    'MLP Classifier': best_mlp,\n",
        "    'Decision Tree': best_dt,\n",
        "    'Naive Bayes': best_nb,\n",
        "    'AdaBoost': best_adaboost\n",
        "}\n",
        "\n",
        "# Calcular as métricas para cada modelo\n",
        "metrics = {}\n",
        "for name, model in models.items():\n",
        "    y_pred = model.predict(X_test)\n",
        "    accuracy = accuracy_score(y_test, y_pred)\n",
        "    precision = precision_score(y_test, y_pred)\n",
        "    recall = recall_score(y_test, y_pred)\n",
        "    f1 = f1_score(y_test, y_pred)\n",
        "    metrics[name] = {'Accuracy': accuracy, 'Precision': precision, 'Recall': recall, 'F1 Score': f1}\n",
        "\n",
        "# Plotar o gráfico de barras mostrando a acurácia de cada modelo\n",
        "plt.figure(figsize=(10, 6))\n",
        "plt.bar(metrics.keys(), [metric['Accuracy'] for metric in metrics.values()], color='teal')\n",
        "plt.xlabel('Model')\n",
        "plt.ylabel('Accuracy')\n",
        "plt.title('Accuracy of Different Models')\n",
        "plt.xticks(rotation=45)\n",
        "plt.ylim(0.7, 0.85)\n",
        "plt.show()\n",
        "\n",
        "# Exibir as métricas de cada modelo\n",
        "for name, metric in metrics.items():\n",
        "    print(f'{name}:')\n",
        "    print(f'  Accuracy: {metric[\"Accuracy\"]}')\n",
        "    print(f'  Precision: {metric[\"Precision\"]}')\n",
        "    print(f'  Recall: {metric[\"Recall\"]}')\n",
        "    print(f'  F1 Score: {metric[\"F1 Score\"]}')"
      ]
    },
    {
      "cell_type": "markdown",
      "id": "h4xLi_Kx9QcI",
      "metadata": {
        "id": "h4xLi_Kx9QcI"
      },
      "source": [
        "### Modelo escolhido"
      ]
    },
    {
      "cell_type": "markdown",
      "id": "50anXzcF9SFJ",
      "metadata": {
        "id": "50anXzcF9SFJ"
      },
      "source": [
        "### Adaboost\n",
        "# Treinando novamente o modelo com os melhores hiperparâmetros"
      ]
    },
    {
      "cell_type": "code",
      "execution_count": 23,
      "id": "baeeaa5e",
      "metadata": {
        "id": "baeeaa5e",
        "outputId": "524a0cc6-153b-4d61-9243-4c3770f6f767"
      },
      "outputs": [
        {
          "name": "stderr",
          "output_type": "stream",
          "text": [
            "c:\\Users\\User\\AppData\\Local\\Programs\\Python\\Python39\\lib\\site-packages\\sklearn\\ensemble\\_weight_boosting.py:519: FutureWarning: The SAMME.R algorithm (the default) is deprecated and will be removed in 1.6. Use the SAMME algorithm to circumvent this warning.\n",
            "  warnings.warn(\n"
          ]
        },
        {
          "name": "stdout",
          "output_type": "stream",
          "text": [
            "Accuracy: 0.8426666666666667\n",
            "Best Parameters: {'n_estimators': 50, 'learning_rate': 1.0}\n"
          ]
        }
      ],
      "source": [
        "from sklearn.ensemble import AdaBoostClassifier\n",
        "from sklearn.metrics import accuracy_score\n",
        "\n",
        "# Definir os melhores parâmetros encontrados durante o grid search\n",
        "best_params = {'n_estimators': 50, 'learning_rate': 1.0}\n",
        "\n",
        "# Inicializar o classificador AdaBoost com os melhores parâmetros\n",
        "best_adaboost = AdaBoostClassifier(**best_params, random_state=42)\n",
        "\n",
        "# Treinar o modelo com os melhores parâmetros\n",
        "best_adaboost.fit(X_train, y_train)\n",
        "\n",
        "# Prever os rótulos do conjunto de teste\n",
        "y_pred = best_adaboost.predict(X_test)\n",
        "\n",
        "# Calcular a precisão do modelo\n",
        "accuracy = accuracy_score(y_test, y_pred)\n",
        "print(\"Accuracy:\", accuracy)\n",
        "\n",
        "# Melhores parâmetros encontrados\n",
        "print(\"Best Parameters:\", best_params)"
      ]
    },
    {
      "cell_type": "code",
      "execution_count": 24,
      "id": "9251ca76",
      "metadata": {
        "id": "9251ca76",
        "outputId": "ff37e0e5-6375-40ea-96ae-d99a60b16193"
      },
      "outputs": [
        {
          "name": "stdout",
          "output_type": "stream",
          "text": [
            "              precision    recall  f1-score   support\n",
            "\n",
            "         0.0       0.88      0.91      0.90      1121\n",
            "         1.0       0.71      0.63      0.67       379\n",
            "\n",
            "    accuracy                           0.84      1500\n",
            "   macro avg       0.80      0.77      0.78      1500\n",
            "weighted avg       0.84      0.84      0.84      1500\n",
            "\n"
          ]
        }
      ],
      "source": [
        "from sklearn.metrics import classification_report\n",
        "\n",
        "# Prever os rótulos do conjunto de teste\n",
        "y_pred = best_adaboost.predict(X_test)\n",
        "\n",
        "# Imprimir o classification report\n",
        "print(classification_report(y_test, y_pred))"
      ]
    },
    {
      "cell_type": "markdown",
      "id": "U1mwFK6o9Utd",
      "metadata": {
        "id": "U1mwFK6o9Utd"
      },
      "source": [
        "### Cálculo e gráfico bias-variance\n"
      ]
    },
    {
      "cell_type": "code",
      "execution_count": 25,
      "id": "4ba21110",
      "metadata": {
        "id": "4ba21110",
        "outputId": "37638f74-a8e4-48a7-c79c-c1c226bd8d54"
      },
      "outputs": [
        {
          "name": "stderr",
          "output_type": "stream",
          "text": [
            "c:\\Users\\User\\AppData\\Local\\Programs\\Python\\Python39\\lib\\site-packages\\sklearn\\ensemble\\_weight_boosting.py:519: FutureWarning: The SAMME.R algorithm (the default) is deprecated and will be removed in 1.6. Use the SAMME algorithm to circumvent this warning.\n",
            "  warnings.warn(\n",
            "c:\\Users\\User\\AppData\\Local\\Programs\\Python\\Python39\\lib\\site-packages\\sklearn\\ensemble\\_weight_boosting.py:519: FutureWarning: The SAMME.R algorithm (the default) is deprecated and will be removed in 1.6. Use the SAMME algorithm to circumvent this warning.\n",
            "  warnings.warn(\n",
            "c:\\Users\\User\\AppData\\Local\\Programs\\Python\\Python39\\lib\\site-packages\\sklearn\\ensemble\\_weight_boosting.py:519: FutureWarning: The SAMME.R algorithm (the default) is deprecated and will be removed in 1.6. Use the SAMME algorithm to circumvent this warning.\n",
            "  warnings.warn(\n",
            "c:\\Users\\User\\AppData\\Local\\Programs\\Python\\Python39\\lib\\site-packages\\sklearn\\ensemble\\_weight_boosting.py:519: FutureWarning: The SAMME.R algorithm (the default) is deprecated and will be removed in 1.6. Use the SAMME algorithm to circumvent this warning.\n",
            "  warnings.warn(\n",
            "c:\\Users\\User\\AppData\\Local\\Programs\\Python\\Python39\\lib\\site-packages\\sklearn\\ensemble\\_weight_boosting.py:519: FutureWarning: The SAMME.R algorithm (the default) is deprecated and will be removed in 1.6. Use the SAMME algorithm to circumvent this warning.\n",
            "  warnings.warn(\n",
            "c:\\Users\\User\\AppData\\Local\\Programs\\Python\\Python39\\lib\\site-packages\\sklearn\\ensemble\\_weight_boosting.py:519: FutureWarning: The SAMME.R algorithm (the default) is deprecated and will be removed in 1.6. Use the SAMME algorithm to circumvent this warning.\n",
            "  warnings.warn(\n",
            "c:\\Users\\User\\AppData\\Local\\Programs\\Python\\Python39\\lib\\site-packages\\sklearn\\ensemble\\_weight_boosting.py:519: FutureWarning: The SAMME.R algorithm (the default) is deprecated and will be removed in 1.6. Use the SAMME algorithm to circumvent this warning.\n",
            "  warnings.warn(\n",
            "c:\\Users\\User\\AppData\\Local\\Programs\\Python\\Python39\\lib\\site-packages\\sklearn\\ensemble\\_weight_boosting.py:519: FutureWarning: The SAMME.R algorithm (the default) is deprecated and will be removed in 1.6. Use the SAMME algorithm to circumvent this warning.\n",
            "  warnings.warn(\n",
            "c:\\Users\\User\\AppData\\Local\\Programs\\Python\\Python39\\lib\\site-packages\\sklearn\\ensemble\\_weight_boosting.py:519: FutureWarning: The SAMME.R algorithm (the default) is deprecated and will be removed in 1.6. Use the SAMME algorithm to circumvent this warning.\n",
            "  warnings.warn(\n",
            "c:\\Users\\User\\AppData\\Local\\Programs\\Python\\Python39\\lib\\site-packages\\sklearn\\ensemble\\_weight_boosting.py:519: FutureWarning: The SAMME.R algorithm (the default) is deprecated and will be removed in 1.6. Use the SAMME algorithm to circumvent this warning.\n",
            "  warnings.warn(\n",
            "c:\\Users\\User\\AppData\\Local\\Programs\\Python\\Python39\\lib\\site-packages\\sklearn\\ensemble\\_weight_boosting.py:519: FutureWarning: The SAMME.R algorithm (the default) is deprecated and will be removed in 1.6. Use the SAMME algorithm to circumvent this warning.\n",
            "  warnings.warn(\n",
            "c:\\Users\\User\\AppData\\Local\\Programs\\Python\\Python39\\lib\\site-packages\\sklearn\\ensemble\\_weight_boosting.py:519: FutureWarning: The SAMME.R algorithm (the default) is deprecated and will be removed in 1.6. Use the SAMME algorithm to circumvent this warning.\n",
            "  warnings.warn(\n",
            "c:\\Users\\User\\AppData\\Local\\Programs\\Python\\Python39\\lib\\site-packages\\sklearn\\ensemble\\_weight_boosting.py:519: FutureWarning: The SAMME.R algorithm (the default) is deprecated and will be removed in 1.6. Use the SAMME algorithm to circumvent this warning.\n",
            "  warnings.warn(\n",
            "c:\\Users\\User\\AppData\\Local\\Programs\\Python\\Python39\\lib\\site-packages\\sklearn\\ensemble\\_weight_boosting.py:519: FutureWarning: The SAMME.R algorithm (the default) is deprecated and will be removed in 1.6. Use the SAMME algorithm to circumvent this warning.\n",
            "  warnings.warn(\n",
            "c:\\Users\\User\\AppData\\Local\\Programs\\Python\\Python39\\lib\\site-packages\\sklearn\\ensemble\\_weight_boosting.py:519: FutureWarning: The SAMME.R algorithm (the default) is deprecated and will be removed in 1.6. Use the SAMME algorithm to circumvent this warning.\n",
            "  warnings.warn(\n"
          ]
        },
        {
          "data": {
            "image/png": "[encoded data removed]",
            "text/plain": [
              "<Figure size 1000x600 with 1 Axes>"
            ]
          },
          "metadata": {},
          "output_type": "display_data"
        }
      ],
      "source": [
        "import numpy as np\n",
        "import matplotlib.pyplot as plt\n",
        "from sklearn.model_selection import cross_val_predict\n",
        "from sklearn.metrics import mean_squared_error\n",
        "\n",
        "# Definir a faixa de número de estimadores\n",
        "n_estimators_range = [50, 100, 200]\n",
        "\n",
        "# Listas para armazenar os valores de viés, variância e erro total\n",
        "biases = []\n",
        "variances = []\n",
        "errors = []\n",
        "\n",
        "# Loop sobre a faixa de número de estimadores\n",
        "for n_estimators in n_estimators_range:\n",
        "    # Inicializar o classificador AdaBoost com o número de estimadores atual\n",
        "    adaboost_model = AdaBoostClassifier(n_estimators=n_estimators, learning_rate=1.0, random_state=42)\n",
        "\n",
        "    # Obter as previsões do modelo usando validação cruzada estratificada\n",
        "    y_pred = cross_val_predict(adaboost_model, X_train, y_train, cv=5)\n",
        "\n",
        "    # Calcular viés, variância e erro médio\n",
        "    mean_prediction = np.mean(y_pred)\n",
        "    bias = np.mean((mean_prediction - y_train) ** 2)\n",
        "    variance = np.mean((y_pred - mean_prediction) ** 2)\n",
        "    error = mean_squared_error(y_train, y_pred)\n",
        "\n",
        "    # Adicionar os valores às listas\n",
        "    biases.append(bias)\n",
        "    variances.append(variance)\n",
        "    errors.append(error)\n",
        "\n",
        "# Plotar o gráfico de viés e variância em função do número de estimadores\n",
        "plt.figure(figsize=(10, 6))\n",
        "plt.plot(n_estimators_range, biases, label='Bias', marker='o')\n",
        "plt.plot(n_estimators_range, variances, label='Variance', marker='o')\n",
        "plt.plot(n_estimators_range, errors, label='Total Error', marker='o')\n",
        "plt.title('Bias and Variance vs Number of Estimators (AdaBoost)')\n",
        "plt.xlabel('Number of Estimators')\n",
        "plt.ylabel('Error')\n",
        "plt.legend()\n",
        "plt.grid(True)\n",
        "plt.show()"
      ]
    },
    {
      "cell_type": "markdown",
      "id": "26c6dd9e",
      "metadata": {},
      "source": [
        "### Validação cruzada e avaliação de desempenho"
      ]
    },
    {
      "cell_type": "code",
      "execution_count": 32,
      "id": "ecb3e8cc",
      "metadata": {},
      "outputs": [
        {
          "name": "stderr",
          "output_type": "stream",
          "text": [
            "c:\\Users\\User\\AppData\\Local\\Programs\\Python\\Python39\\lib\\site-packages\\sklearn\\ensemble\\_weight_boosting.py:519: FutureWarning: The SAMME.R algorithm (the default) is deprecated and will be removed in 1.6. Use the SAMME algorithm to circumvent this warning.\n",
            "  warnings.warn(\n",
            "c:\\Users\\User\\AppData\\Local\\Programs\\Python\\Python39\\lib\\site-packages\\sklearn\\ensemble\\_weight_boosting.py:519: FutureWarning: The SAMME.R algorithm (the default) is deprecated and will be removed in 1.6. Use the SAMME algorithm to circumvent this warning.\n",
            "  warnings.warn(\n",
            "c:\\Users\\User\\AppData\\Local\\Programs\\Python\\Python39\\lib\\site-packages\\sklearn\\ensemble\\_weight_boosting.py:519: FutureWarning: The SAMME.R algorithm (the default) is deprecated and will be removed in 1.6. Use the SAMME algorithm to circumvent this warning.\n",
            "  warnings.warn(\n",
            "c:\\Users\\User\\AppData\\Local\\Programs\\Python\\Python39\\lib\\site-packages\\sklearn\\ensemble\\_weight_boosting.py:519: FutureWarning: The SAMME.R algorithm (the default) is deprecated and will be removed in 1.6. Use the SAMME algorithm to circumvent this warning.\n",
            "  warnings.warn(\n",
            "c:\\Users\\User\\AppData\\Local\\Programs\\Python\\Python39\\lib\\site-packages\\sklearn\\ensemble\\_weight_boosting.py:519: FutureWarning: The SAMME.R algorithm (the default) is deprecated and will be removed in 1.6. Use the SAMME algorithm to circumvent this warning.\n",
            "  warnings.warn(\n",
            "c:\\Users\\User\\AppData\\Local\\Programs\\Python\\Python39\\lib\\site-packages\\sklearn\\ensemble\\_weight_boosting.py:519: FutureWarning: The SAMME.R algorithm (the default) is deprecated and will be removed in 1.6. Use the SAMME algorithm to circumvent this warning.\n",
            "  warnings.warn(\n",
            "c:\\Users\\User\\AppData\\Local\\Programs\\Python\\Python39\\lib\\site-packages\\sklearn\\ensemble\\_weight_boosting.py:519: FutureWarning: The SAMME.R algorithm (the default) is deprecated and will be removed in 1.6. Use the SAMME algorithm to circumvent this warning.\n",
            "  warnings.warn(\n",
            "c:\\Users\\User\\AppData\\Local\\Programs\\Python\\Python39\\lib\\site-packages\\sklearn\\ensemble\\_weight_boosting.py:519: FutureWarning: The SAMME.R algorithm (the default) is deprecated and will be removed in 1.6. Use the SAMME algorithm to circumvent this warning.\n",
            "  warnings.warn(\n",
            "c:\\Users\\User\\AppData\\Local\\Programs\\Python\\Python39\\lib\\site-packages\\sklearn\\ensemble\\_weight_boosting.py:519: FutureWarning: The SAMME.R algorithm (the default) is deprecated and will be removed in 1.6. Use the SAMME algorithm to circumvent this warning.\n",
            "  warnings.warn(\n",
            "c:\\Users\\User\\AppData\\Local\\Programs\\Python\\Python39\\lib\\site-packages\\sklearn\\ensemble\\_weight_boosting.py:519: FutureWarning: The SAMME.R algorithm (the default) is deprecated and will be removed in 1.6. Use the SAMME algorithm to circumvent this warning.\n",
            "  warnings.warn(\n"
          ]
        },
        {
          "name": "stdout",
          "output_type": "stream",
          "text": [
            "Cross-Validation Accuracy Scores: [0.84  0.87  0.852 0.808 0.832 0.856 0.834 0.848 0.84  0.822]\n",
            "Mean Accuracy: 0.8402, Standard Deviation: 0.016767826334978538\n"
          ]
        }
      ],
      "source": [
        "from sklearn.model_selection import cross_val_score\n",
        "\n",
        "# Usando 10-fold cross-validation\n",
        "cv_scores = cross_val_score(best_adaboost, X, y, cv=10, scoring='accuracy')\n",
        "print(f'Cross-Validation Accuracy Scores: {cv_scores}')\n",
        "print(f'Mean Accuracy: {np.mean(cv_scores)}, Standard Deviation: {np.std(cv_scores)}')"
      ]
    },
    {
      "cell_type": "code",
      "execution_count": 36,
      "id": "8a8efcc1",
      "metadata": {},
      "outputs": [
        {
          "data": {
            "image/png": "[encoded data removed]",
            "text/plain": [
              "<Figure size 800x600 with 2 Axes>"
            ]
          },
          "metadata": {},
          "output_type": "display_data"
        }
      ],
      "source": [
        "import seaborn as sns\n",
        "from sklearn.metrics import accuracy_score, confusion_matrix\n",
        "# Calcular a precisão do modelo\n",
        "accuracy = accuracy_score(y_test, y_pred)\n",
        "# Criar a matriz de confusão\n",
        "conf_matrix = confusion_matrix(y_test, y_pred)\n",
        "\n",
        "# Plotar a matriz de confusão\n",
        "plt.figure(figsize=(8, 6))\n",
        "sns.heatmap(conf_matrix, annot=True, fmt='d', cmap='Blues', xticklabels=['Não Churn', 'Churn'], yticklabels=['Não Churn', 'Churn'])\n",
        "plt.xlabel('Predicted Label')\n",
        "plt.ylabel('True Label')\n",
        "plt.title('Confusion Matrix')\n",
        "plt.show()"
      ]
    },
    {
      "cell_type": "markdown",
      "id": "a523d266",
      "metadata": {},
      "source": [
        "### Análise de importância das features para o modelo"
      ]
    },
    {
      "cell_type": "code",
      "execution_count": 33,
      "id": "679cc211",
      "metadata": {},
      "outputs": [
        {
          "data": {
            "image/png": "[encoded data removed]",
            "text/plain": [
              "<Figure size 1000x600 with 1 Axes>"
            ]
          },
          "metadata": {},
          "output_type": "display_data"
        }
      ],
      "source": [
        "importances = best_adaboost.feature_importances_\n",
        "indices = np.argsort(importances)[::-1]\n",
        "\n",
        "# Plotando a importância das features\n",
        "plt.figure(figsize=(10, 6))\n",
        "plt.title('Feature Importances')\n",
        "plt.bar(range(X.shape[1]), importances[indices], align='center')\n",
        "plt.xticks(range(X.shape[1]), X.columns[indices], rotation=90)\n",
        "plt.tight_layout()\n",
        "plt.show()"
      ]
    },
    {
      "cell_type": "markdown",
      "id": "56318f25",
      "metadata": {},
      "source": [
        "- Neste gráfico podemos ver com clareza quais features são mais influentes na previsão do modelo"
      ]
    }
  ],
  "metadata": {
    "colab": {
      "provenance": []
    },
    "kernelspec": {
      "display_name": "Python 3 (ipykernel)",
      "language": "python",
      "name": "python3"
    },
    "language_info": {
      "codemirror_mode": {
        "name": "ipython",
        "version": 3
      },
      "file_extension": ".py",
      "mimetype": "text/x-python",
      "name": "python",
      "nbconvert_exporter": "python",
      "pygments_lexer": "ipython3",
      "version": "3.9.13"
    }
  },
  "nbformat": 4,
  "nbformat_minor": 5
}
